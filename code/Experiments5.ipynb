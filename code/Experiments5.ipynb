{
 "cells": [
  {
   "cell_type": "code",
   "execution_count": 3,
   "metadata": {},
   "outputs": [],
   "source": [
    "import numpy as np\n",
    "import pandas as pd\n",
    "import math\n",
    "from matplotlib import pyplot as plt\n",
    "from matplotlib import rcParams\n",
    "from matplotlib import gridspec\n",
    "import seaborn as sns\n",
    "from sklearn.model_selection import train_test_split\n",
    "from sklearn.model_selection import GridSearchCV, StratifiedKFold\n",
    "from sklearn.metrics import make_scorer, accuracy_score, balanced_accuracy_score, auc, roc_auc_score, log_loss, mean_squared_error\n",
    "from sklearn.datasets import load_breast_cancer, load_diabetes, load_wine\n",
    "\n",
    "from sklearn.tree import DecisionTreeClassifier, DecisionTreeRegressor\n",
    "from rit.tree import DecisionTreeClassifier as MyDecisionTreeClassifier\n",
    "from rit.tree import DecisionTreeRegressor as MyDecisionTreeRegressor\n",
    "from sklearn.ensemble import RandomForestClassifier, RandomForestRegressor\n",
    "from rit.ensemble import RandomForestClassifier as MyRandomForestClassifier\n",
    "from rit.ensemble import RandomForestRegressor as MyRandomForestRegressor\n",
    "\n",
    "from mlxtend.plotting import plot_decision_regions\n",
    "from sklearn.datasets import make_classification, make_regression\n",
    "\n",
    "from scipy.stats import f_oneway\n",
    "\n",
    "from sklearn.metrics import roc_auc_score, confusion_matrix, classification_report\n",
    "\n",
    "from scipy.stats import mannwhitneyu"
   ]
  },
  {
   "cell_type": "markdown",
   "metadata": {},
   "source": [
    "# helpfunctions"
   ]
  },
  {
   "cell_type": "code",
   "execution_count": 4,
   "metadata": {},
   "outputs": [],
   "source": [
    "def dependency_matrix_tree_ver_1(tree, n_features):\n",
    "    matrix = np.zeros((n_features,  n_features))\n",
    "\n",
    "    n_nodes = tree.tree_.node_count\n",
    "    children_left = tree.tree_.children_left\n",
    "    children_right = tree.tree_.children_right\n",
    "    feature = tree.tree_.feature\n",
    "    threshold = tree.tree_.threshold\n",
    "    values = tree.tree_.value\n",
    "\n",
    "    node_depth = np.zeros(shape=n_nodes, dtype=np.int64)\n",
    "    is_leaves = np.zeros(shape=n_nodes, dtype=bool)\n",
    "\n",
    "    stack = [(0, 0)]\n",
    "    while len(stack) > 0:\n",
    "        node_id, depth = stack.pop()\n",
    "        node_depth[node_id] = depth\n",
    "        is_split_node = children_left[node_id] != children_right[node_id]\n",
    "        if is_split_node:\n",
    "            stack.append((children_left[node_id], depth + 1))\n",
    "            stack.append((children_right[node_id], depth + 1))\n",
    "            matrix[feature[node_id]][feature[children_left[node_id]]] += 1\n",
    "            matrix[feature[node_id]][feature[children_right[node_id]]] += 1\n",
    "        else:\n",
    "            is_leaves[node_id] = True\n",
    "    return matrix / (n_nodes - 1)"
   ]
  },
  {
   "cell_type": "code",
   "execution_count": 5,
   "metadata": {},
   "outputs": [],
   "source": [
    "def dependency_matrix_tree_ver_2(tree, n_features):\n",
    "    matrix = np.zeros((n_features,  n_features))\n",
    "\n",
    "    n_nodes = tree.tree_.node_count\n",
    "    children_left = tree.tree_.children_left\n",
    "    children_right = tree.tree_.children_right\n",
    "    feature = tree.tree_.feature\n",
    "    threshold = tree.tree_.threshold\n",
    "    values = tree.tree_.value\n",
    "\n",
    "    node_depth = np.zeros(shape=n_nodes, dtype=np.int64)\n",
    "    is_leaves = np.zeros(shape=n_nodes, dtype=bool)\n",
    "\n",
    "    stack = [(0, 0)]\n",
    "    while len(stack) > 0:\n",
    "        node_id, depth = stack.pop()\n",
    "        node_depth[node_id] = depth\n",
    "        is_split_node = children_left[node_id] != children_right[node_id]\n",
    "        if is_split_node:\n",
    "            stack.append((children_left[node_id], depth + 1))\n",
    "            stack.append((children_right[node_id], depth + 1))\n",
    "            matrix[feature[node_id]][feature[children_left[node_id]]] += 1 / np.exp(depth)\n",
    "            matrix[feature[node_id]][feature[children_right[node_id]]] += 1 / np.exp(depth)\n",
    "        else:\n",
    "            is_leaves[node_id] = True\n",
    "    return matrix / (n_nodes - 1)"
   ]
  },
  {
   "cell_type": "code",
   "execution_count": 6,
   "metadata": {},
   "outputs": [],
   "source": [
    "def dependency_matrix_forest(model, n_features):\n",
    "  matrix = np.zeros((n_features,  n_features))\n",
    "\n",
    "  for tree in model.estimators_:\n",
    "    matrix += dependency_matrix_tree_ver_1(tree, n_features)\n",
    "\n",
    "  N = model.n_estimators\n",
    "  matrix = matrix / N\n",
    "\n",
    "  return matrix"
   ]
  },
  {
   "cell_type": "code",
   "execution_count": 7,
   "metadata": {},
   "outputs": [],
   "source": [
    "def dependency_matrix_forest_2(model, n_features):\n",
    "  matrix = np.zeros((n_features,  n_features))\n",
    "\n",
    "  for tree in model.estimators_:\n",
    "    matrix += dependency_matrix_tree_ver_2(tree, n_features)\n",
    "\n",
    "  N = model.n_estimators\n",
    "  matrix = matrix / N\n",
    "\n",
    "  return matrix"
   ]
  },
  {
   "cell_type": "code",
   "execution_count": 8,
   "metadata": {},
   "outputs": [],
   "source": [
    "def Visualise_classification_2D(X, y):\n",
    "  cols = ['blue', 'red', 'green', 'yellow']\n",
    "  plt.figure(figsize=(9,4))\n",
    "  plt.xlim((np.min(X) - 0.5, np.max(X) + 0.5)),\n",
    "  plt.ylim((np.min(X) - 0.5, np.max(X) + 0.5))\n",
    "\n",
    "  for k in np.unique(y):\n",
    "      plt.plot(X[y==k,0], X[y==k,1], 'o',\n",
    "                label='класс {}'.format(k), color=cols[k])\n",
    "\n",
    "  plt.legend(loc='best')\n",
    "  plt.xlabel('x1')\n",
    "  plt.ylabel('x2')\n",
    "  plt.show()\n",
    "\n",
    "def Visualise_regression_2D(X, y, xlim, ylim):\n",
    "  plt.figure(figsize=[9, 4])\n",
    "  plt.xlim((xlim[0], xlim[1]))\n",
    "  plt.ylim((ylim[0], ylim[1]))\n",
    "\n",
    "  sc = plt.scatter(X[:, 0], X[:, 1], c=y, s=5)\n",
    "\n",
    "  plt.colorbar(sc)\n",
    "\n",
    "  plt.xlabel('x1')\n",
    "  plt.ylabel('x2')\n",
    "  plt.show()"
   ]
  },
  {
   "cell_type": "code",
   "execution_count": 20,
   "metadata": {},
   "outputs": [],
   "source": [
    "def func_reg(X, y, alpha):\n",
    "  params = {'max_depth': [1, 2, 3, 4, 5, 6, 7, 8, 9, 10, 11], 'n_estimators': [5000]}\n",
    "  clf = GridSearchCV(MyRandomForestRegressor(random_state=0,\n",
    "                                              n_estimators=params['n_estimators'],\n",
    "                                              max_depth=params['max_depth'],\n",
    "                                              max_leaf_nodes=2**max(params['max_depth']),\n",
    "                                              bootstrap=True,\n",
    "                                              oob_score=True,\n",
    "                                              subforest_importance=True,\n",
    "                                              normalize_importance=False,\n",
    "                                              rit_alpha=alpha),\n",
    "                   params,\n",
    "                   scoring = lambda est, X, y: est.oob_score_, \n",
    "                   cv=[(np.arange(X.shape[0]), np.arange(0))])\n",
    "  clf.fit(X, y)\n",
    "  rf = clf.best_estimator_\n",
    "  print(\"rit_alpha = {}, max_depth = {}, score = {}\".format(rf.rit_alpha, rf.max_depth, rf.oob_score_))\n",
    "  return rf\n",
    "\n",
    "\n",
    "def func_class(X, y, alpha):\n",
    "  params = {'max_depth': [3, 4, 5, 6, 7, 8, 9, 10, 11, 12, 15], 'n_estimators': [5000]}\n",
    "  clf = GridSearchCV(MyRandomForestClassifier(random_state=0,\n",
    "                                              n_estimators=params['n_estimators'],\n",
    "                                              max_depth=params['max_depth'],\n",
    "                                              max_leaf_nodes=2**max(params['max_depth']),\n",
    "                                              bootstrap=True,\n",
    "                                              oob_score=accuracy_score,\n",
    "                                              subforest_importance=True,\n",
    "                                              normalize_importance=False,\n",
    "                                              rit_alpha=alpha),\n",
    "                   params,\n",
    "                   scoring = lambda est, X, y: est.oob_score_, \n",
    "                   cv=[(np.arange(X.shape[0]), np.arange(0))])\n",
    "  clf.fit(X, y)\n",
    "  rf = clf.best_estimator_\n",
    "  print(\"rit_alpha = {}, max_depth = {}, score = {}\".format(rf.rit_alpha, rf.max_depth, rf.oob_score_))\n",
    "  return rf"
   ]
  },
  {
   "cell_type": "code",
   "execution_count": 10,
   "metadata": {},
   "outputs": [],
   "source": [
    "from graphviz import Digraph\n",
    "\n",
    "def export_tree_to_dot(clf, feature_names=None):\n",
    "    dot = Digraph()\n",
    "    n_nodes = clf.tree_.node_count\n",
    "    children_left = clf.tree_.children_left\n",
    "    children_right = clf.tree_.children_right\n",
    "    feature = clf.tree_.feature\n",
    "    threshold = clf.tree_.threshold\n",
    "    values = clf.tree_.value\n",
    "\n",
    "    # Генерируем цветовую палитру для фичей\n",
    "    unique_features = np.unique(feature[feature >= 0])\n",
    "    custom_colors = [\"#FF6B6B\", \"#4ECDC4\", \"#45B7D1\", \"#96CEB4\", \"#FFEEAD\"]\n",
    "    feature_colors = {f: custom_colors[i % len(custom_colors)] \n",
    "                 for i, f in enumerate(unique_features)}\n",
    "\n",
    "    # Добавляем легенду\n",
    "    with dot.subgraph(name='legend') as legend:\n",
    "        legend.attr(label='Legend', rank='sink')\n",
    "        for f, color in feature_colors.items():\n",
    "            feature_label = feature_names[f] if feature_names else f\"Feature {f}\"\n",
    "            legend.node(f\"legend_{f}\", \n",
    "                        label=feature_label, \n",
    "                        shape=\"box\", \n",
    "                        fillcolor=color, \n",
    "                        style=\"filled\")\n",
    "\n",
    "    # Создаем узлы\n",
    "    for node_id in range(n_nodes):\n",
    "        if children_left[node_id] == children_right[node_id]:\n",
    "            # Листовой узел (серый цвет)\n",
    "            class_label = np.argmax(values[node_id][0])\n",
    "            label = f\"Class {class_label}\"\n",
    "            dot.node(str(node_id), \n",
    "                    label=label, \n",
    "                    shape=\"box\", \n",
    "                    style=\"filled\", \n",
    "                    fillcolor=\"lightgray\")\n",
    "        else:\n",
    "            # Разделяющий узел (цвет по фиче)\n",
    "            f = feature[node_id]\n",
    "            feature_label = feature_names[f] if feature_names else f\"X[{f}]\"\n",
    "            label = f\"{feature_label} <= {threshold[node_id]:.3f}\"\n",
    "            dot.node(str(node_id), \n",
    "                    label=label, \n",
    "                    shape=\"ellipse\", \n",
    "                    style=\"filled\", \n",
    "                    fillcolor=feature_colors[f])\n",
    "\n",
    "    # Создаем связи\n",
    "    for node_id in range(n_nodes):\n",
    "        if children_left[node_id] != children_right[node_id]:\n",
    "            dot.edge(str(node_id), str(children_left[node_id]), label=\"True\")\n",
    "            dot.edge(str(node_id), str(children_right[node_id]), label=\"False\")\n",
    "\n",
    "    return dot\n"
   ]
  },
  {
   "cell_type": "code",
   "execution_count": 11,
   "metadata": {},
   "outputs": [],
   "source": [
    "def create_tree_view(tree, name):\n",
    "    dot = export_tree_to_dot(tree, feature_names=[\"X1\", \"X2\"])\n",
    "    dot.render(name, view=True, format='png')"
   ]
  },
  {
   "cell_type": "markdown",
   "metadata": {},
   "source": [
    "# Выборки"
   ]
  },
  {
   "cell_type": "code",
   "execution_count": 12,
   "metadata": {},
   "outputs": [],
   "source": [
    "def data_regression_2D_1():\n",
    "  n = 2\n",
    "  N = 2000\n",
    "\n",
    "  X1 = np.random.random(N)\n",
    "  X2 = np.random.random(N)\n",
    "\n",
    "  y = X1 + X2 + np.random.random(N)/3\n",
    "  X = np.vstack([X1, X2]).transpose(1, 0)\n",
    "\n",
    "  return X, y"
   ]
  },
  {
   "cell_type": "code",
   "execution_count": 13,
   "metadata": {},
   "outputs": [],
   "source": [
    "def data_regression_2D_2():\n",
    "  n = 2\n",
    "  N = 2000\n",
    "\n",
    "  X1 = np.random.random(N)\n",
    "  X2 = np.random.random(N)\n",
    "\n",
    "  y = X1 * X2 + np.random.random(N)/5\n",
    "  X = np.vstack([X1, X2]).transpose(1, 0)\n",
    "\n",
    "  return X, y"
   ]
  },
  {
   "cell_type": "code",
   "execution_count": 14,
   "metadata": {},
   "outputs": [
    {
     "data": {
      "image/png": "[encoded data removed]",
      "text/plain": [
       "<Figure size 900x400 with 1 Axes>"
      ]
     },
     "metadata": {},
     "output_type": "display_data"
    }
   ],
   "source": [
    "def data_classification_2D_3():\n",
    "    n = 2\n",
    "    l = 2000\n",
    "\n",
    "  # Параметры\n",
    "    width = 50         # Ширина прямоугольника\n",
    "    height = 50        # Высота прямоугольника\n",
    "    cols = 6         # Количество столбцов сетки\n",
    "    rows = 6          # Количество строк сетки\n",
    "    points_per_cell = 50  # Количество точек в каждой ячейке\n",
    "\n",
    "    # Вычисление размеров ячейки\n",
    "    cell_width = width / cols\n",
    "    cell_height = height / rows\n",
    "\n",
    "    # Генерация данных\n",
    "    X = []\n",
    "    y = []\n",
    "\n",
    "    for i in range(cols):\n",
    "        for j in range(rows):\n",
    "            # Генерация координат точек внутри ячейки (i, j)\n",
    "            x_points = np.random.uniform(i * cell_width, (i + 1) * cell_width, points_per_cell)\n",
    "            y_points = np.random.uniform(j * cell_height, (j + 1) * cell_height, points_per_cell)\n",
    "            \n",
    "            # Определение класса (шахматный порядок)\n",
    "            class_label = (i + j) % 2\n",
    "            \n",
    "            # Сохранение данных\n",
    "            X.extend(np.column_stack((x_points, y_points)))\n",
    "            y.extend([class_label] * points_per_cell)\n",
    "\n",
    "    X = np.array(X)\n",
    "    y = np.array(y)\n",
    "\n",
    "    return X, y\n",
    "\n",
    "X, y = data_classification_2D_3()\n",
    "Visualise_classification_2D(X, y)"
   ]
  },
  {
   "cell_type": "code",
   "execution_count": 15,
   "metadata": {},
   "outputs": [
    {
     "data": {
      "image/png": "[encoded data removed]",
      "text/plain": [
       "<Figure size 900x400 with 1 Axes>"
      ]
     },
     "metadata": {},
     "output_type": "display_data"
    }
   ],
   "source": [
    "def data_classification_2D_4():\n",
    "    n = 2\n",
    "    l = 2000\n",
    "\n",
    "    # Параметры\n",
    "    width = 50        # Ширина прямоугольника\n",
    "    height = 50         # Высота прямоугольника\n",
    "    cols = 6           # Количество столбцов\n",
    "    rows = 6           # Количество строк\n",
    "    points_per_cell = 50  # Количество точек в каждой ячейке\n",
    "\n",
    "    # Размеры ячейки\n",
    "    cell_width = width / cols\n",
    "    cell_height = height / rows\n",
    "\n",
    "    # Генерация данных\n",
    "    X = []\n",
    "    y = []\n",
    "\n",
    "    for i in range(cols):\n",
    "        for j in range(rows):\n",
    "            # Генерация случайных точек внутри ячейки (i, j)\n",
    "            x_points = np.random.uniform(i * cell_width, (i + 1.2) * cell_width, points_per_cell)\n",
    "            y_points = np.random.uniform(j * cell_height, (j + 1) * cell_height, points_per_cell)\n",
    "            \n",
    "            # Класс определяется только номером столбца (i)\n",
    "            class_label = i % 2  # Четные столбцы — 0, нечетные — 1\n",
    "            \n",
    "            X.extend(np.column_stack((x_points, y_points)))\n",
    "            y.extend([class_label] * points_per_cell)\n",
    "\n",
    "    X = np.array(X)\n",
    "    y = np.array(y)\n",
    "\n",
    "    return X, y\n",
    "\n",
    "X, y = data_classification_2D_4()\n",
    "Visualise_classification_2D(X, y)"
   ]
  },
  {
   "cell_type": "code",
   "execution_count": 16,
   "metadata": {},
   "outputs": [],
   "source": [
    "def data_regression_2D_5():\n",
    "  n = 2\n",
    "  N = 2000\n",
    "\n",
    "  X1 = np.random.random(N)\n",
    "  X2 = np.random.random(N)\n",
    "\n",
    "  y = X1 + X2 + np.random.random(N)/300\n",
    "  X = np.vstack([X1, X2]).transpose(1, 0)\n",
    "\n",
    "  return X, y"
   ]
  },
  {
   "cell_type": "code",
   "execution_count": 17,
   "metadata": {},
   "outputs": [],
   "source": [
    "def data_regression_2D_6():\n",
    "  n = 2\n",
    "  N = 2000\n",
    "\n",
    "  X1 = np.random.random(N)\n",
    "  X2 = np.random.random(N)\n",
    "\n",
    "  y = X1 * X2 + np.random.random(N)/500\n",
    "  X = np.vstack([X1, X2]).transpose(1, 0)\n",
    "\n",
    "  return X, y"
   ]
  },
  {
   "cell_type": "markdown",
   "metadata": {},
   "source": [
    "# Проверка деревьев"
   ]
  },
  {
   "cell_type": "markdown",
   "metadata": {},
   "source": [
    "Сначала получим массив оттюненых моделей для различгых rit_alpha. Нужно 4 массива для 2х регрессий и 2х классификаций."
   ]
  },
  {
   "cell_type": "code",
   "execution_count": 9,
   "metadata": {},
   "outputs": [
    {
     "name": "stdout",
     "output_type": "stream",
     "text": [
      "rit_alpha = -10000, max_depth = 7, score = 0.9413066735893705\n",
      "rit_alpha = 0, max_depth = 7, score = 0.9413066735893705\n",
      "rit_alpha = 0.1, max_depth = 7, score = 0.941317305572063\n",
      "rit_alpha = 0.2, max_depth = 7, score = 0.9412852496076275\n",
      "rit_alpha = 0.3, max_depth = 7, score = 0.9412469876887203\n",
      "rit_alpha = 0.5, max_depth = 7, score = 0.9410568892202249\n",
      "rit_alpha = 0.7, max_depth = 7, score = 0.939859331783054\n",
      "rit_alpha = 0.8, max_depth = 7, score = 0.9379205273409181\n",
      "rit_alpha = 0.9, max_depth = 7, score = 0.9308284186303054\n",
      "rit_alpha = 0.91, max_depth = 8, score = 0.9283063606714375\n",
      "rit_alpha = 0.93, max_depth = 8, score = 0.918912960473693\n",
      "rit_alpha = 0.95, max_depth = 8, score = 0.8977558526877535\n",
      "rit_alpha = 0.99, max_depth = 5, score = 0.697132851536634\n",
      "rit_alpha = 0.999, max_depth = 3, score = 0.6961543858984334\n"
     ]
    }
   ],
   "source": [
    "# 1\n",
    "X, y = data_regression_2D_1()\n",
    "alphas = [-10000, 0, 0.1, 0.2, 0.3, 0.5, 0.7, 0.8, 0.9, 0.91, 0.93, 0.95, 0.99, 0.999, 1]\n",
    "arr_1 = []\n",
    "for alpha in alphas[:-1]:\n",
    "    arr_1.append(func_reg(X, y, alpha))"
   ]
  },
  {
   "cell_type": "code",
   "execution_count": 10,
   "metadata": {},
   "outputs": [
    {
     "name": "stdout",
     "output_type": "stream",
     "text": [
      "rit_alpha = -10000, max_depth = 6, score = 0.9317747310395251\n",
      "rit_alpha = 0, max_depth = 6, score = 0.9317747310395251\n",
      "rit_alpha = 0.1, max_depth = 6, score = 0.9318023907537434\n",
      "rit_alpha = 0.2, max_depth = 6, score = 0.931832880028353\n",
      "rit_alpha = 0.3, max_depth = 6, score = 0.9318662518769271\n",
      "rit_alpha = 0.5, max_depth = 6, score = 0.9319171171230192\n",
      "rit_alpha = 0.7, max_depth = 7, score = 0.9316019176271138\n",
      "rit_alpha = 0.8, max_depth = 7, score = 0.9310633901855383\n",
      "rit_alpha = 0.9, max_depth = 7, score = 0.9299508088185858\n",
      "rit_alpha = 0.91, max_depth = 7, score = 0.9294194019510678\n",
      "rit_alpha = 0.93, max_depth = 8, score = 0.9252713977227384\n",
      "rit_alpha = 0.95, max_depth = 8, score = 0.9070227118709623\n",
      "rit_alpha = 0.99, max_depth = 6, score = 0.5901355542163432\n",
      "rit_alpha = 0.999, max_depth = 3, score = 0.5820516591844622\n"
     ]
    }
   ],
   "source": [
    "# 2\n",
    "X, y = data_regression_2D_2()\n",
    "alphas = [-10000, 0, 0.1, 0.2, 0.3, 0.5, 0.7, 0.8, 0.9, 0.91, 0.93, 0.95, 0.99, 0.999, 1]\n",
    "arr_2 = []\n",
    "for alpha in alphas[:-1]:\n",
    "    arr_2.append(func_reg(X, y, alpha))"
   ]
  },
  {
   "cell_type": "code",
   "execution_count": 11,
   "metadata": {},
   "outputs": [
    {
     "name": "stdout",
     "output_type": "stream",
     "text": [
      "rit_alpha = -10000, max_depth = 15, score = 0.9433333333333334\n",
      "rit_alpha = 0, max_depth = 15, score = 0.9744444444444444\n",
      "rit_alpha = 0.1, max_depth = 15, score = 0.9627777777777777\n",
      "rit_alpha = 0.2, max_depth = 15, score = 0.9611111111111111\n",
      "rit_alpha = 0.3, max_depth = 15, score = 0.9588888888888889\n",
      "rit_alpha = 0.5, max_depth = 15, score = 0.9527777777777777\n",
      "rit_alpha = 0.7, max_depth = 15, score = 0.8927777777777778\n",
      "rit_alpha = 0.8, max_depth = 15, score = 0.7222222222222222\n",
      "rit_alpha = 0.9, max_depth = 15, score = 0.5227777777777778\n",
      "rit_alpha = 0.91, max_depth = 15, score = 0.5094444444444445\n",
      "rit_alpha = 0.93, max_depth = 15, score = 0.49166666666666664\n",
      "rit_alpha = 0.95, max_depth = 15, score = 0.48444444444444446\n",
      "rit_alpha = 0.99, max_depth = 15, score = 0.4822222222222222\n",
      "rit_alpha = 0.999, max_depth = 15, score = 0.4822222222222222\n"
     ]
    }
   ],
   "source": [
    "# 3\n",
    "X, y = data_classification_2D_3()\n",
    "alphas = [-10000, 0, 0.1, 0.2, 0.3, 0.5, 0.7, 0.8, 0.9, 0.91, 0.93, 0.95, 0.99, 0.999, 1]\n",
    "arr_3 = []\n",
    "for alpha in alphas[:-1]:\n",
    "    arr_3.append(func_class(X, y, alpha))"
   ]
  },
  {
   "cell_type": "code",
   "execution_count": 12,
   "metadata": {},
   "outputs": [
    {
     "name": "stdout",
     "output_type": "stream",
     "text": [
      "rit_alpha = -10000, max_depth = 12, score = 0.8722222222222222\n",
      "rit_alpha = 0, max_depth = 10, score = 0.8827777777777778\n",
      "rit_alpha = 0.1, max_depth = 6, score = 0.8777777777777778\n",
      "rit_alpha = 0.2, max_depth = 6, score = 0.8794444444444445\n",
      "rit_alpha = 0.3, max_depth = 6, score = 0.8794444444444445\n",
      "rit_alpha = 0.5, max_depth = 6, score = 0.88\n",
      "rit_alpha = 0.7, max_depth = 6, score = 0.8811111111111111\n",
      "rit_alpha = 0.8, max_depth = 6, score = 0.8811111111111111\n",
      "rit_alpha = 0.9, max_depth = 7, score = 0.88\n",
      "rit_alpha = 0.91, max_depth = 7, score = 0.88\n",
      "rit_alpha = 0.93, max_depth = 6, score = 0.88\n",
      "rit_alpha = 0.95, max_depth = 6, score = 0.8805555555555555\n",
      "rit_alpha = 0.99, max_depth = 10, score = 0.8788888888888889\n",
      "rit_alpha = 0.999, max_depth = 10, score = 0.8777777777777778\n"
     ]
    }
   ],
   "source": [
    "# 4\n",
    "X, y = data_classification_2D_4()\n",
    "alphas = [-10000, 0, 0.1, 0.2, 0.3, 0.5, 0.7, 0.8, 0.9, 0.91, 0.93, 0.95, 0.99, 0.999, 1]\n",
    "arr_4 = []\n",
    "for alpha in alphas[:-1]:\n",
    "    arr_4.append(func_class(X, y, alpha))"
   ]
  },
  {
   "cell_type": "code",
   "execution_count": 21,
   "metadata": {},
   "outputs": [
    {
     "name": "stdout",
     "output_type": "stream",
     "text": [
      "rit_alpha = -10000, max_depth = 11, score = 0.9994524457760278\n",
      "rit_alpha = 0, max_depth = 11, score = 0.9994524457760278\n",
      "rit_alpha = 0.1, max_depth = 11, score = 0.9994320909839833\n",
      "rit_alpha = 0.2, max_depth = 11, score = 0.9994105995748918\n",
      "rit_alpha = 0.3, max_depth = 11, score = 0.9993841423900437\n",
      "rit_alpha = 0.5, max_depth = 11, score = 0.999255850172922\n",
      "rit_alpha = 0.7, max_depth = 11, score = 0.9987708507138714\n",
      "rit_alpha = 0.8, max_depth = 10, score = 0.9975070930898662\n",
      "rit_alpha = 0.9, max_depth = 9, score = 0.9906778569916198\n",
      "rit_alpha = 0.91, max_depth = 9, score = 0.9885447647398944\n",
      "rit_alpha = 0.93, max_depth = 9, score = 0.9810056352292775\n",
      "rit_alpha = 0.95, max_depth = 9, score = 0.964203443522148\n",
      "rit_alpha = 0.99, max_depth = 5, score = 0.7412746026467056\n",
      "rit_alpha = 0.999, max_depth = 3, score = 0.7388839455199845\n"
     ]
    }
   ],
   "source": [
    "# 5\n",
    "X, y = data_regression_2D_5()\n",
    "alphas = [-10000, 0, 0.1, 0.2, 0.3, 0.5, 0.7, 0.8, 0.9, 0.91, 0.93, 0.95, 0.99, 0.999, 1]\n",
    "arr_5 = []\n",
    "for alpha in alphas[:-1]:\n",
    "    arr_5.append(func_reg(X, y, alpha))"
   ]
  },
  {
   "cell_type": "code",
   "execution_count": 22,
   "metadata": {},
   "outputs": [
    {
     "name": "stdout",
     "output_type": "stream",
     "text": [
      "rit_alpha = -10000, max_depth = 11, score = 0.9994947042415719\n",
      "rit_alpha = 0, max_depth = 11, score = 0.9994947042415719\n",
      "rit_alpha = 0.1, max_depth = 11, score = 0.9994831258840384\n",
      "rit_alpha = 0.2, max_depth = 11, score = 0.9994717766133354\n",
      "rit_alpha = 0.3, max_depth = 11, score = 0.9994542410585596\n",
      "rit_alpha = 0.5, max_depth = 11, score = 0.9993639515596557\n",
      "rit_alpha = 0.7, max_depth = 11, score = 0.9990245844852355\n",
      "rit_alpha = 0.8, max_depth = 10, score = 0.9985171853950913\n",
      "rit_alpha = 0.9, max_depth = 9, score = 0.9968691114074525\n",
      "rit_alpha = 0.91, max_depth = 9, score = 0.9959696345810936\n",
      "rit_alpha = 0.93, max_depth = 9, score = 0.9905828817353354\n",
      "rit_alpha = 0.95, max_depth = 9, score = 0.9714905303053801\n",
      "rit_alpha = 0.99, max_depth = 7, score = 0.6499728210926365\n",
      "rit_alpha = 0.999, max_depth = 3, score = 0.6357980077736141\n"
     ]
    }
   ],
   "source": [
    "# 6\n",
    "X, y = data_regression_2D_6()\n",
    "alphas = [-10000, 0, 0.1, 0.2, 0.3, 0.5, 0.7, 0.8, 0.9, 0.91, 0.93, 0.95, 0.99, 0.999, 1]\n",
    "arr_6 = []\n",
    "for alpha in alphas[:-1]:\n",
    "    arr_6.append(func_reg(X, y, alpha))"
   ]
  },
  {
   "cell_type": "markdown",
   "metadata": {},
   "source": [
    "Посмотрим на структуру деревьев, полученых при разных rit_alpha."
   ]
  },
  {
   "cell_type": "code",
   "execution_count": null,
   "metadata": {},
   "outputs": [],
   "source": [
    "names_1 = [\"tree_1_ra_\" + str(alphas[i]) for i in range(len(arr_1))]\n",
    "names_2 = [\"tree_2_ra_\" + str(alphas[i]) for i in range(len(arr_2))]\n",
    "names_3 = [\"tree_3_ra_\" + str(alphas[i]) for i in range(len(arr_3))]\n",
    "names_4 = [\"tree_4_ra_\" + str(alphas[i]) for i in range(len(arr_4))]\n",
    "names_5 = [\"tree_5_ra_\" + str(alphas[i]) for i in range(len(arr_5))]\n",
    "names_6 = [\"tree_6_ra_\" + str(alphas[i]) for i in range(len(arr_6))]"
   ]
  },
  {
   "cell_type": "code",
   "execution_count": null,
   "metadata": {},
   "outputs": [],
   "source": [
    "for i in range(len(arr_5)):\n",
    "    create_tree_view(arr_5[i].estimators_[0], names_5[i])"
   ]
  },
  {
   "cell_type": "code",
   "execution_count": null,
   "metadata": {},
   "outputs": [],
   "source": [
    "for i in range(len(arr_6)):\n",
    "    create_tree_view(arr_6[i].estimators_[0], names_6[i])"
   ]
  },
  {
   "cell_type": "markdown",
   "metadata": {},
   "source": [
    "#1 Regression, $Y = X_1 + X_2$"
   ]
  },
  {
   "cell_type": "code",
   "execution_count": null,
   "metadata": {},
   "outputs": [],
   "source": [
    "for i in range(len(arr_1)):\n",
    "    create_tree_view(arr_1[i].estimators_[0], names_1[i])"
   ]
  },
  {
   "cell_type": "code",
   "execution_count": 39,
   "metadata": {},
   "outputs": [
    {
     "name": "stdout",
     "output_type": "stream",
     "text": [
      "rit_alpha = -10000, mean feature changes = 0.590852233931555\n",
      "rit_alpha = 0, mean feature changes = 0.590852233931555\n",
      "rit_alpha = 0.1, mean feature changes = 0.5842423449795435\n",
      "rit_alpha = 0.2, mean feature changes = 0.5837516323095379\n",
      "rit_alpha = 0.3, mean feature changes = 0.5835384855903771\n",
      "rit_alpha = 0.5, mean feature changes = 0.5713096780052334\n",
      "rit_alpha = 0.7, mean feature changes = 0.5051941410663223\n",
      "rit_alpha = 0.8, mean feature changes = 0.4518457692281387\n",
      "rit_alpha = 0.9, mean feature changes = 0.37820169941422\n",
      "rit_alpha = 0.91, mean feature changes = 0.30175430431144884\n",
      "rit_alpha = 0.93, mean feature changes = 0.2804486586025606\n",
      "rit_alpha = 0.95, mean feature changes = 0.25415524578474125\n",
      "rit_alpha = 0.99, mean feature changes = 0.19614710771860397\n",
      "rit_alpha = 0.999, mean feature changes = 0.21560000000001306\n"
     ]
    }
   ],
   "source": [
    "for i in range(len(arr_1)):\n",
    "    matrix = dependency_matrix_forest(arr_1[i], 2)\n",
    "    print(\"rit_alpha = {}, mean feature changes = {}\".format(alphas[i], matrix[0][1] + matrix[1][0]))"
   ]
  },
  {
   "cell_type": "code",
   "execution_count": 51,
   "metadata": {},
   "outputs": [
    {
     "name": "stdout",
     "output_type": "stream",
     "text": [
      "rit_alpha = -10000, mean feature changes = 0.020487762944745386\n",
      "rit_alpha = 0, mean feature changes = 0.020487762944745386\n",
      "rit_alpha = 0.1, mean feature changes = 0.021235064839468208\n",
      "rit_alpha = 0.2, mean feature changes = 0.02219838545623893\n",
      "rit_alpha = 0.3, mean feature changes = 0.02307636805160902\n",
      "rit_alpha = 0.5, mean feature changes = 0.02365719960288959\n",
      "rit_alpha = 0.7, mean feature changes = 0.019348705865595527\n",
      "rit_alpha = 0.8, mean feature changes = 0.015425661035843075\n",
      "rit_alpha = 0.9, mean feature changes = 0.012502942867813845\n",
      "rit_alpha = 0.91, mean feature changes = 0.006725886826370294\n",
      "rit_alpha = 0.93, mean feature changes = 0.005845828585574307\n",
      "rit_alpha = 0.95, mean feature changes = 0.0045066796680317996\n",
      "rit_alpha = 0.99, mean feature changes = 0.0038392682382138196\n",
      "rit_alpha = 0.999, mean feature changes = 0.029178287065812714\n"
     ]
    }
   ],
   "source": [
    "for i in range(len(arr_1)):\n",
    "    matrix = dependency_matrix_forest_2(arr_1[i], 2)\n",
    "    print(\"rit_alpha = {}, mean feature changes = {}\".format(alphas[i], matrix[0][1] + matrix[1][0]))"
   ]
  },
  {
   "cell_type": "markdown",
   "metadata": {},
   "source": [
    "#2 Regression, $Y = X_1 \\cdot X_2$"
   ]
  },
  {
   "cell_type": "code",
   "execution_count": null,
   "metadata": {},
   "outputs": [],
   "source": [
    "for i in range(len(arr_2)):\n",
    "    create_tree_view(arr_2[i].estimators_[0], names_2[i])"
   ]
  },
  {
   "cell_type": "code",
   "execution_count": 40,
   "metadata": {},
   "outputs": [
    {
     "name": "stdout",
     "output_type": "stream",
     "text": [
      "rit_alpha = -10000, mean feature changes = 0.5850421331164861\n",
      "rit_alpha = 0, mean feature changes = 0.5850421331164861\n",
      "rit_alpha = 0.1, mean feature changes = 0.5793640052457248\n",
      "rit_alpha = 0.2, mean feature changes = 0.5722851412385492\n",
      "rit_alpha = 0.3, mean feature changes = 0.5623015182848414\n",
      "rit_alpha = 0.5, mean feature changes = 0.5235461171156356\n",
      "rit_alpha = 0.7, mean feature changes = 0.4276187206826665\n",
      "rit_alpha = 0.8, mean feature changes = 0.3851036373463067\n",
      "rit_alpha = 0.9, mean feature changes = 0.33582488909279096\n",
      "rit_alpha = 0.91, mean feature changes = 0.3292890244337702\n",
      "rit_alpha = 0.93, mean feature changes = 0.27920385965770217\n",
      "rit_alpha = 0.95, mean feature changes = 0.2960097212510665\n",
      "rit_alpha = 0.99, mean feature changes = 0.2882945593395847\n",
      "rit_alpha = 0.999, mean feature changes = 0.32171428571427463\n"
     ]
    }
   ],
   "source": [
    "for i in range(len(arr_2)):\n",
    "    matrix = dependency_matrix_forest(arr_2[i], 2)\n",
    "    print(\"rit_alpha = {}, mean feature changes = {}\".format(alphas[i], matrix[0][1] + matrix[1][0]))"
   ]
  },
  {
   "cell_type": "code",
   "execution_count": 52,
   "metadata": {},
   "outputs": [
    {
     "name": "stdout",
     "output_type": "stream",
     "text": [
      "rit_alpha = -10000, mean feature changes = 0.031050692334296935\n",
      "rit_alpha = 0, mean feature changes = 0.031050692334296935\n",
      "rit_alpha = 0.1, mean feature changes = 0.030120256580463738\n",
      "rit_alpha = 0.2, mean feature changes = 0.029680234883067407\n",
      "rit_alpha = 0.3, mean feature changes = 0.029336227323605076\n",
      "rit_alpha = 0.5, mean feature changes = 0.028125097208830642\n",
      "rit_alpha = 0.7, mean feature changes = 0.013872826402834548\n",
      "rit_alpha = 0.8, mean feature changes = 0.013250462788716395\n",
      "rit_alpha = 0.9, mean feature changes = 0.011014286948025902\n",
      "rit_alpha = 0.91, mean feature changes = 0.01059756375515038\n",
      "rit_alpha = 0.93, mean feature changes = 0.005427617858969199\n",
      "rit_alpha = 0.95, mean feature changes = 0.004706405257478406\n",
      "rit_alpha = 0.99, mean feature changes = 0.0025757675159150625\n",
      "rit_alpha = 0.999, mean feature changes = 0.04353929397840506\n"
     ]
    }
   ],
   "source": [
    "for i in range(len(arr_2)):\n",
    "    matrix = dependency_matrix_forest_2(arr_2[i], 2)\n",
    "    print(\"rit_alpha = {}, mean feature changes = {}\".format(alphas[i], matrix[0][1] + matrix[1][0]))"
   ]
  },
  {
   "cell_type": "markdown",
   "metadata": {},
   "source": [
    "#3 Classification, related features"
   ]
  },
  {
   "cell_type": "code",
   "execution_count": null,
   "metadata": {},
   "outputs": [],
   "source": [
    "for i in range(len(arr_3)):\n",
    "    create_tree_view(arr_3[i].estimators_[0], names_3[i])"
   ]
  },
  {
   "cell_type": "code",
   "execution_count": 41,
   "metadata": {},
   "outputs": [
    {
     "name": "stdout",
     "output_type": "stream",
     "text": [
      "rit_alpha = -10000, mean feature changes = 0.49851597434438877\n",
      "rit_alpha = 0, mean feature changes = 0.4948208774654878\n",
      "rit_alpha = 0.1, mean feature changes = 0.45016669513588525\n",
      "rit_alpha = 0.2, mean feature changes = 0.44503792669445363\n",
      "rit_alpha = 0.3, mean feature changes = 0.43579295629948117\n",
      "rit_alpha = 0.5, mean feature changes = 0.4017234259209744\n",
      "rit_alpha = 0.7, mean feature changes = 0.3263067886917009\n",
      "rit_alpha = 0.8, mean feature changes = 0.285036379782719\n",
      "rit_alpha = 0.9, mean feature changes = 0.25790270297848084\n",
      "rit_alpha = 0.91, mean feature changes = 0.25738678975503476\n",
      "rit_alpha = 0.93, mean feature changes = 0.2559036648764985\n",
      "rit_alpha = 0.95, mean feature changes = 0.25488690279995013\n",
      "rit_alpha = 0.99, mean feature changes = 0.2547368920960943\n",
      "rit_alpha = 0.999, mean feature changes = 0.2547368920960943\n"
     ]
    }
   ],
   "source": [
    "for i in range(len(arr_3)):\n",
    "    matrix = dependency_matrix_forest(arr_3[i], 2)\n",
    "    print(\"rit_alpha = {}, mean feature changes = {}\".format(alphas[i], matrix[0][1] + matrix[1][0]))"
   ]
  },
  {
   "cell_type": "code",
   "execution_count": 53,
   "metadata": {},
   "outputs": [
    {
     "name": "stdout",
     "output_type": "stream",
     "text": [
      "rit_alpha = -10000, mean feature changes = 0.008680553981815414\n",
      "rit_alpha = 0, mean feature changes = 0.013757208636853065\n",
      "rit_alpha = 0.1, mean feature changes = 0.008831467605810096\n",
      "rit_alpha = 0.2, mean feature changes = 0.008481584512804853\n",
      "rit_alpha = 0.3, mean feature changes = 0.007941895710950072\n",
      "rit_alpha = 0.5, mean feature changes = 0.006502641155021529\n",
      "rit_alpha = 0.7, mean feature changes = 0.0041582613434705705\n",
      "rit_alpha = 0.8, mean feature changes = 0.0026693733588223846\n",
      "rit_alpha = 0.9, mean feature changes = 0.0013577556278365267\n",
      "rit_alpha = 0.91, mean feature changes = 0.0012729210118913154\n",
      "rit_alpha = 0.93, mean feature changes = 0.0011382509146862473\n",
      "rit_alpha = 0.95, mean feature changes = 0.0010706011814981054\n",
      "rit_alpha = 0.99, mean feature changes = 0.0010534451088100194\n",
      "rit_alpha = 0.999, mean feature changes = 0.0010534451088100194\n"
     ]
    }
   ],
   "source": [
    "for i in range(len(arr_3)):\n",
    "    matrix = dependency_matrix_forest_2(arr_3[i], 2)\n",
    "    print(\"rit_alpha = {}, mean feature changes = {}\".format(alphas[i], matrix[0][1] + matrix[1][0]))"
   ]
  },
  {
   "cell_type": "markdown",
   "metadata": {},
   "source": [
    "#4 Classification, unrelated features"
   ]
  },
  {
   "cell_type": "code",
   "execution_count": null,
   "metadata": {},
   "outputs": [],
   "source": [
    "for i in range(len(arr_4)):\n",
    "    create_tree_view(arr_4[i].estimators_[0], names_4[i])"
   ]
  },
  {
   "cell_type": "code",
   "execution_count": 42,
   "metadata": {},
   "outputs": [
    {
     "name": "stdout",
     "output_type": "stream",
     "text": [
      "rit_alpha = -10000, mean feature changes = 0.4905849729481486\n",
      "rit_alpha = 0, mean feature changes = 0.41398985631607027\n",
      "rit_alpha = 0.1, mean feature changes = 0.14498427529016367\n",
      "rit_alpha = 0.2, mean feature changes = 0.1367565504341593\n",
      "rit_alpha = 0.3, mean feature changes = 0.12555419860818404\n",
      "rit_alpha = 0.5, mean feature changes = 0.10232972220771647\n",
      "rit_alpha = 0.7, mean feature changes = 0.07603453532945365\n",
      "rit_alpha = 0.8, mean feature changes = 0.06614728876988837\n",
      "rit_alpha = 0.9, mean feature changes = 0.047607789310742284\n",
      "rit_alpha = 0.91, mean feature changes = 0.04783218049953123\n",
      "rit_alpha = 0.93, mean feature changes = 0.06517815406862909\n",
      "rit_alpha = 0.95, mean feature changes = 0.07555804447097858\n",
      "rit_alpha = 0.99, mean feature changes = 0.25408899256026923\n",
      "rit_alpha = 0.999, mean feature changes = 0.256717286624285\n"
     ]
    }
   ],
   "source": [
    "for i in range(len(arr_4)):\n",
    "    matrix = dependency_matrix_forest(arr_4[i], 2)\n",
    "    print(\"rit_alpha = {}, mean feature changes = {}\".format(alphas[i], matrix[0][1] + matrix[1][0]))"
   ]
  },
  {
   "cell_type": "code",
   "execution_count": 54,
   "metadata": {},
   "outputs": [
    {
     "name": "stdout",
     "output_type": "stream",
     "text": [
      "rit_alpha = -10000, mean feature changes = 0.01135260423223998\n",
      "rit_alpha = 0, mean feature changes = 0.010231191570375234\n",
      "rit_alpha = 0.1, mean feature changes = 0.02971247771542749\n",
      "rit_alpha = 0.2, mean feature changes = 0.02942108391681895\n",
      "rit_alpha = 0.3, mean feature changes = 0.02899370654910881\n",
      "rit_alpha = 0.5, mean feature changes = 0.027960293758392565\n",
      "rit_alpha = 0.7, mean feature changes = 0.025977427590376904\n",
      "rit_alpha = 0.8, mean feature changes = 0.024506786728733552\n",
      "rit_alpha = 0.9, mean feature changes = 0.016341991433056726\n",
      "rit_alpha = 0.91, mean feature changes = 0.01617276625922236\n",
      "rit_alpha = 0.93, mean feature changes = 0.021608582363067928\n",
      "rit_alpha = 0.95, mean feature changes = 0.020390704027354063\n",
      "rit_alpha = 0.99, mean feature changes = 0.0026556285522398386\n",
      "rit_alpha = 0.999, mean feature changes = 0.002617408195179125\n"
     ]
    }
   ],
   "source": [
    "for i in range(len(arr_4)):\n",
    "    matrix = dependency_matrix_forest_2(arr_4[i], 2)\n",
    "    print(\"rit_alpha = {}, mean feature changes = {}\".format(alphas[i], matrix[0][1] + matrix[1][0]))"
   ]
  }
 ],
 "metadata": {
  "kernelspec": {
   "display_name": "base",
   "language": "python",
   "name": "python3"
  },
  "language_info": {
   "codemirror_mode": {
    "name": "ipython",
    "version": 3
   },
   "file_extension": ".py",
   "mimetype": "text/x-python",
   "name": "python",
   "nbconvert_exporter": "python",
   "pygments_lexer": "ipython3",
   "version": "3.9.13"
  }
 },
 "nbformat": 4,
 "nbformat_minor": 2
}
